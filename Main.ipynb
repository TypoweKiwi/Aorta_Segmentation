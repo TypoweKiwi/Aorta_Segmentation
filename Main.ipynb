{
 "cells": [
  {
   "cell_type": "code",
   "execution_count": 1,
   "id": "0b7234ea",
   "metadata": {
    "_cell_guid": "b1076dfc-b9ad-4769-8c92-a6c4dae69d19",
    "_uuid": "8f2839f25d086af736a60e9eeb907d3b93b6e0e5",
    "execution": {
     "iopub.execute_input": "2025-04-02T10:44:23.637109Z",
     "iopub.status.busy": "2025-04-02T10:44:23.636705Z",
     "iopub.status.idle": "2025-04-02T10:44:37.944816Z",
     "shell.execute_reply": "2025-04-02T10:44:37.943186Z"
    },
    "papermill": {
     "duration": 14.314178,
     "end_time": "2025-04-02T10:44:37.946867",
     "exception": false,
     "start_time": "2025-04-02T10:44:23.632689",
     "status": "completed"
    },
    "tags": []
   },
   "outputs": [],
   "source": [
    "import numpy as np\n",
    "import pandas as pd\n",
    "import os\n",
    "\n",
    "from sklearn.model_selection import train_test_split\n",
    "import SimpleITK as sitk\n",
    "import cv2\n",
    "\n",
    "import torch as tc\n",
    "import torch.nn as nn\n",
    "from torchvision import models"
   ]
  },
  {
   "cell_type": "code",
   "execution_count": 2,
   "id": "e9f91b9b",
   "metadata": {
    "execution": {
     "iopub.execute_input": "2025-04-02T10:44:37.953171Z",
     "iopub.status.busy": "2025-04-02T10:44:37.952606Z",
     "iopub.status.idle": "2025-04-02T10:44:38.199876Z",
     "shell.execute_reply": "2025-04-02T10:44:38.198589Z"
    },
    "papermill": {
     "duration": 0.252581,
     "end_time": "2025-04-02T10:44:38.202087",
     "exception": false,
     "start_time": "2025-04-02T10:44:37.949506",
     "status": "completed"
    },
    "tags": []
   },
   "outputs": [],
   "source": [
    "def get_files(data_path, folder):\n",
    "    names = []\n",
    "    folder_path = os.path.join(data_path, folder)\n",
    "    for subfolder in os.listdir(folder_path):\n",
    "        subfolder_path = os.path.join(folder_path, subfolder)\n",
    "        for file in os.listdir(subfolder_path):\n",
    "            if file.endswith(\".nrrd\"):\n",
    "                names.append(os.path.join(subfolder_path, file))\n",
    "    return names\n",
    "\n",
    "def split_data(names_list, pre_test_size = 0.2, val_ratio = 0.5, seed=5):\n",
    "    train_names, pre_test_names = train_test_split(names_list, test_size = pre_test_size, random_state = seed)\n",
    "    val_names, test_names = train_test_split(pre_test_names, test_size = val_ratio, random_state = seed)\n",
    "    return train_names, val_names, test_names\n",
    "    \n",
    "Data_path = r\"/kaggle/input/mri-data/Data\"\n",
    "\n",
    "Dongyang_data_names = get_files(Data_path, \"Dongyang\")\n",
    "KiTS_data_names = get_files(Data_path, \"KiTS\")\n",
    "Rider_data_names = get_files(Data_path, \"Rider\")\n",
    "\n",
    "D_train_names, D_val_names, D_test_names = split_data(Dongyang_data_names)\n",
    "K_train_names, K_val_names, K_test_names = split_data(KiTS_data_names)\n",
    "R_train_names, R_val_names, R_test_names = split_data(Rider_data_names)\n",
    "\n",
    "train_data_names = D_train_names + K_train_names + R_train_names\n",
    "val_data_names = D_val_names + K_val_names + R_val_names\n",
    "test_data_names = D_test_names + K_test_names + R_test_names"
   ]
  },
  {
   "cell_type": "code",
   "execution_count": 3,
   "id": "f28cb36a",
   "metadata": {
    "execution": {
     "iopub.execute_input": "2025-04-02T10:44:38.208293Z",
     "iopub.status.busy": "2025-04-02T10:44:38.207842Z",
     "iopub.status.idle": "2025-04-02T10:44:38.220232Z",
     "shell.execute_reply": "2025-04-02T10:44:38.218677Z"
    },
    "papermill": {
     "duration": 0.018181,
     "end_time": "2025-04-02T10:44:38.222531",
     "exception": false,
     "start_time": "2025-04-02T10:44:38.204350",
     "status": "completed"
    },
    "tags": []
   },
   "outputs": [],
   "source": [
    "class Dataset(tc.utils.data.Dataset):\n",
    "    def __init__(self, data_path, data_names):\n",
    "        self.data_path = data_path\n",
    "        self.images = []\n",
    "        self.masks = []\n",
    "        self.images_names = []\n",
    "        \n",
    "        progress_indicator = 0\n",
    "        \n",
    "        for name in data_names:\n",
    "            image = sitk.ReadImage(os.path.join(data_path, name))\n",
    "            image = sitk.GetArrayFromImage(image).T\n",
    "            if image.shape[1] == 666:\n",
    "                image = image[:, 77:589, :]\n",
    "            for i in range(image.shape[2]):\n",
    "                self.images.append(image[:, :, i])\n",
    "                self.images_names.append(os.path.basename(name) + \"Slice\" + str(i))\n",
    "                \n",
    "            mask = sitk.ReadImage(os.path.join(data_path, name.replace(\".nrrd\", \".seg.nrrd\")))\n",
    "            mask = sitk.GetArrayFromImage(mask).T\n",
    "            if mask.shape[1] == 666:\n",
    "                mask = mask[:, 77:589, :]\n",
    "            for i in range(mask.shape[2]):\n",
    "                self.masks.append(mask[:, :, i])\n",
    "                \n",
    "            progress_indicator += 1\n",
    "            print(\"Data loading progress: \", (progress_indicator/len(data_names)*100, \"%\"))\n",
    "            \n",
    "    def Preprocess_Data():\n",
    "        for i in range(len(self.images)):\n",
    "            image = self.images[i]\n",
    "            if \"R\" in self.images_names[i]:\n",
    "                image[image == -2000] = 0\n",
    "            image = cv2.resize(image, (224, 224))\n",
    "            image = cv2.medianBlur(image, kernel_size=3)\n",
    "            image = cv.equalizeHist(image)\n",
    "            image = (image - np.min(image)) / (np.max(image) - np.min(image))\n",
    "            self.images[i] = tc.from_numpy(np.float32(image))\n",
    "            \n",
    "        for i in range(len(self.masks)):\n",
    "            mask = self.masks[i]\n",
    "            mask = cv2.resize(mask, (224, 224))\n",
    "            self.masks[i] = tc.from_numpy(np.float32(mask))\n",
    "\n",
    "    def __len__(self):\n",
    "        return len(self.images)\n",
    "\n",
    "    def __getitem__(self, index):\n",
    "        return self.images[index], self.masks[index]\n",
    "        \n",
    "    def Get_name(self, index):\n",
    "        return self.images_name[i]"
   ]
  },
  {
   "cell_type": "code",
   "execution_count": 4,
   "id": "6b5125a3",
   "metadata": {
    "execution": {
     "iopub.execute_input": "2025-04-02T10:44:38.228319Z",
     "iopub.status.busy": "2025-04-02T10:44:38.227946Z",
     "iopub.status.idle": "2025-04-02T10:44:38.232242Z",
     "shell.execute_reply": "2025-04-02T10:44:38.231059Z"
    },
    "papermill": {
     "duration": 0.009139,
     "end_time": "2025-04-02T10:44:38.234039",
     "exception": false,
     "start_time": "2025-04-02T10:44:38.224900",
     "status": "completed"
    },
    "tags": []
   },
   "outputs": [],
   "source": [
    "Testing_files = ['/kaggle/input/mri-data/Data/Dongyang/D6/D6.nrrd', \n",
    "                 '/kaggle/input/mri-data/Data/KiTS/K10/K10.nrrd', \n",
    "                 '/kaggle/input/mri-data/Data/Rider/R4/R4.nrrd']"
   ]
  }
 ],
 "metadata": {
  "kaggle": {
   "accelerator": "none",
   "dataSources": [
    {
     "datasetId": 6999385,
     "sourceId": 11209360,
     "sourceType": "datasetVersion"
    }
   ],
   "dockerImageVersionId": 30918,
   "isGpuEnabled": false,
   "isInternetEnabled": false,
   "language": "python",
   "sourceType": "notebook"
  },
  "kernelspec": {
   "display_name": "Python 3",
   "language": "python",
   "name": "python3"
  },
  "language_info": {
   "codemirror_mode": {
    "name": "ipython",
    "version": 3
   },
   "file_extension": ".py",
   "mimetype": "text/x-python",
   "name": "python",
   "nbconvert_exporter": "python",
   "pygments_lexer": "ipython3",
   "version": "3.10.12"
  },
  "papermill": {
   "default_parameters": {},
   "duration": 20.63164,
   "end_time": "2025-04-02T10:44:41.323698",
   "environment_variables": {},
   "exception": null,
   "input_path": "__notebook__.ipynb",
   "output_path": "__notebook__.ipynb",
   "parameters": {},
   "start_time": "2025-04-02T10:44:20.692058",
   "version": "2.6.0"
  }
 },
 "nbformat": 4,
 "nbformat_minor": 5
}
